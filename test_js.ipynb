{
 "cells": [
  {
   "cell_type": "code",
   "execution_count": 28,
   "metadata": {},
   "outputs": [],
   "source": [
    "from config import yelp_api_key\n",
    "import requests"
   ]
  },
  {
   "cell_type": "code",
   "execution_count": 29,
   "metadata": {},
   "outputs": [
    {
     "data": {
      "text/plain": [
       "'i_Pn9Ujcc4OBOKAaWfXVjlnkmG6YB20FGdCqd0ROLDjQkJKKc1fR-58n0SBuTmdTolstTBrydmwMRn2FiKfwFPP6nRGtyJOqmjkN7bmIy3CGEz3qnsrfl693jE5KZXYxi_Pn9Ujcc4OBOKAaWfXVjlnkmG6YB20FGdCqd0ROLDjQkJKKc1fR-58n0SBuTmdTolstTBrydmwMRn2FiKfwFPP6nRGtyJOqmjkN7bmIy3CGEz3qnsrfl693jE5KZXYx'"
      ]
     },
     "execution_count": 29,
     "metadata": {},
     "output_type": "execute_result"
    }
   ],
   "source": [
    "yelp_api_key"
   ]
  },
  {
   "cell_type": "code",
   "execution_count": 18,
   "metadata": {},
   "outputs": [
    {
     "data": {
      "text/plain": [
       "{'error': {'code': 'VALIDATION_ERROR',\n",
       "  'description': \"'Bearer i_Pn9Ujcc4OBOKAaWfXVjlnkmG6YB20FGdCqd0ROLDjQkJKKc1fR-58n0SBuTmdTolstTBrydmwMRn2FiKfwFPP6nRGtyJOqmjkN7bmIy3CGEz3qnsrfl693jE5KZXYxi_Pn9Ujcc4OBOKAaWfXVjlnkmG6YB20FGdCqd0ROLDjQkJKKc1fR-58n0SBuTmdTolstTBrydmwMRn2FiKfwFPP6nRGtyJOqmjkN7bmIy3CGEz3qnsrfl693jE5KZXYx' does not match '^(?i)Bearer [A-Za-z0-9\\\\\\\\-\\\\\\\\_]{128}$'\",\n",
       "  'field': 'Authorization',\n",
       "  'instance': 'Bearer i_Pn9Ujcc4OBOKAaWfXVjlnkmG6YB20FGdCqd0ROLDjQkJKKc1fR-58n0SBuTmdTolstTBrydmwMRn2FiKfwFPP6nRGtyJOqmjkN7bmIy3CGEz3qnsrfl693jE5KZXYxi_Pn9Ujcc4OBOKAaWfXVjlnkmG6YB20FGdCqd0ROLDjQkJKKc1fR-58n0SBuTmdTolstTBrydmwMRn2FiKfwFPP6nRGtyJOqmjkN7bmIy3CGEz3qnsrfl693jE5KZXYx'}}"
      ]
     },
     "execution_count": 18,
     "metadata": {},
     "output_type": "execute_result"
    }
   ],
   "source": [
    "# Define the endpoint URL\n",
    "url = \"https://api.yelp.com/v3/businesses/search\"\n",
    "\n",
    "# Define the headers\n",
    "headers = {\n",
    "    \"Authorization\": f\"Bearer i_Pn9Ujcc4OBOKAaWfXVjlnkmG6YB20FGdCqd0ROLDjQkJKKc1fR-58n0SBuTmdTolstTBrydmwMRn2FiKfwFPP6nRGtyJOqmjkN7bmIy3CGEz3qnsrfl693jE5KZXYx\"\n",
    "}\n",
    "headers = {\n",
    "    \"Authorization\": f\"Bearer {yelp_api_key}\"\n",
    "}\n",
    "# Define the parameters\n",
    "params = {\n",
    "    \"location\": \"San Diego\",\n",
    "    \"term\": \"h-mart\"\n",
    "}\n",
    "\n",
    "# Make the API request\n",
    "response = requests.get(url, headers=headers, params=params)\n",
    "\n",
    "# Parse the response\n",
    "data = response.json()\n",
    "\n",
    "# Print the data\n",
    "data"
   ]
  },
  {
   "cell_type": "code",
   "execution_count": null,
   "metadata": {},
   "outputs": [],
   "source": []
  }
 ],
 "metadata": {
  "kernelspec": {
   "display_name": "Python 3",
   "language": "python",
   "name": "python3"
  },
  "language_info": {
   "codemirror_mode": {
    "name": "ipython",
    "version": 3
   },
   "file_extension": ".py",
   "mimetype": "text/x-python",
   "name": "python",
   "nbconvert_exporter": "python",
   "pygments_lexer": "ipython3",
   "version": "3.11.5"
  }
 },
 "nbformat": 4,
 "nbformat_minor": 2
}
