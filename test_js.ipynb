{
 "cells": [
  {
   "cell_type": "code",
   "execution_count": 1,
   "metadata": {},
   "outputs": [],
   "source": [
    "from config import yelp_api_key\n",
    "import requests"
   ]
  },
  {
   "cell_type": "code",
   "execution_count": 74,
   "metadata": {},
   "outputs": [],
   "source": [
    "# Get H Mart Buinsess IDs in Certain Location\n",
    "def get_ids(location):\n",
    "    url = \"https://api.yelp.com/v3/businesses/search\"\n",
    "    headers = {\n",
    "    \"Authorization\": f\"Bearer {yelp_api_key}\"\n",
    "    }\n",
    "    params = {\n",
    "    \"location\":f\"{location}\",\n",
    "    \"term\": \"h-mart\",\n",
    "    \"limit\" : 50\n",
    "    }\n",
    "    response = requests.get(url, headers=headers, params=params)\n",
    "    data = response.json()\n",
    "\n",
    "    ids = {}\n",
    "    for store in data['businesses']:\n",
    "        if 'H Mart' in store['name']:\n",
    "            ids[store['name']] = store['id']\n",
    "\n",
    "    return ids"
   ]
  },
  {
   "cell_type": "code",
   "execution_count": 94,
   "metadata": {},
   "outputs": [
    {
     "data": {
      "text/plain": [
       "{'H Mart - Houston': '8-64npb_paXKRHCEs7-jmw',\n",
       " 'H Mart - Bellaire': 'QPulJOKbbp_bsp1iQgUfkg',\n",
       " 'H Mart - Katy': 'K96Oe_CjuRgbeO46etR_JA'}"
      ]
     },
     "execution_count": 94,
     "metadata": {},
     "output_type": "execute_result"
    }
   ],
   "source": [
    "tx_ids = get_ids('Texas')\n",
    "tx_ids"
   ]
  },
  {
   "cell_type": "code",
   "execution_count": null,
   "metadata": {},
   "outputs": [],
   "source": [
    "# not all stores in the location show up \n",
    "# --> think of alternative ways to get all business ids in the location"
   ]
  },
  {
   "cell_type": "code",
   "execution_count": 80,
   "metadata": {},
   "outputs": [
    {
     "data": {
      "text/plain": [
       "{'H Mart': 'SP5iRtAOux0UgDOO2eeuEg',\n",
       " 'H Mart - Edison': 'Ox8vk58P0bx_Ce5p57RUUA',\n",
       " 'H Mart - Ridgefield': 'BurPcTWDBckKCs9jUXHk-Q',\n",
       " 'H Mart - Paramus': '8CSWfE3wxI1UyiemtF0YRw',\n",
       " 'H Mart - Hartsdale': 'V52kefaXO5vykbzd52M_mw',\n",
       " 'H Mart - Jericho': '35TPRXbln2T0nshfrP8HCQ',\n",
       " 'H Mart - Fort Lee': '4IvzF466N4PFl4xf4ZOAGQ',\n",
       " 'H Mart - Yonkers': 'czp2dfwZ8MK0GwemL_6pWA',\n",
       " 'H Mart - Union': 'ucPJv4Xy5A9RsqxsOk78xw',\n",
       " 'H Mart - Little Ferry': '0aFjfaM4ae28eCE9mJIa0g',\n",
       " 'H Mart - Long Island City': 'HmxyXKtZd7IsWyVcTwBlDg',\n",
       " 'H Mart American Dream': 'wljLGtaT6Kdik7aSUrbZsQ',\n",
       " 'H Mart - Bayside': '1qjJz_X-qzAmWHt3CY44CA',\n",
       " 'H Mart - Woodside': 'DqLMxNjonFBXAzcAheSD1A'}"
      ]
     },
     "execution_count": 80,
     "metadata": {},
     "output_type": "execute_result"
    }
   ],
   "source": [
    "nj_ids = get_ids('New Jersey')\n",
    "nj_ids\n"
   ]
  },
  {
   "cell_type": "code",
   "execution_count": null,
   "metadata": {},
   "outputs": [],
   "source": [
    "# store names are not in a same format. \n",
    "# ex. first store doesn't show the city & American Dream store misses \"-\" \n",
    "# --> use different parameter as a key to store business id"
   ]
  },
  {
   "cell_type": "code",
   "execution_count": 131,
   "metadata": {},
   "outputs": [],
   "source": [
    "# get reviews of certain h mart store\n",
    "def get_reviews(id):\n",
    "    url = f\"https://api.yelp.com/v3/businesses/{id}/reviews\"\n",
    "    \n",
    "    headers = {\n",
    "        \"Authorization\": f\"Bearer {yelp_api_key}\"\n",
    "    }\n",
    "    params = {\n",
    "        \"limit\" : 1000,\n",
    "        \"sort_by\" : \"yelp_sort\"\n",
    "    }\n",
    "    response = requests.get(url, headers=headers, params=params)\n",
    "    data = response.json()['reviews']\n",
    "\n",
    "    reviews = {}\n",
    "    for review in data:\n",
    "        reviews[review['user']['name']] = review['text']\n",
    "\n",
    "    return reviews"
   ]
  },
  {
   "cell_type": "code",
   "execution_count": 133,
   "metadata": {},
   "outputs": [
    {
     "data": {
      "text/plain": [
       "{'David A.': \"Went to the H Mart at 48-18 Northern Blvd, Queens, NY 11101 Friday.  It's pretty new. \\n\\nThis large Korean grocery store is spotless, has free parking on the...\",\n",
       " 'Farrah B.': \"I went on a mini field trip with my co-workers to H mart not too long ago and I had to return to do my regular grocery shopping this past weekend. I'm super...\",\n",
       " 'Betty L.': 'One stop shop for all your Asian food and product needs.  They have a fantastic selection of fresh produces.  Their seafood selection is also really large....'}"
      ]
     },
     "execution_count": 133,
     "metadata": {},
     "output_type": "execute_result"
    }
   ],
   "source": [
    "reviews =  get_reviews('SP5iRtAOux0UgDOO2eeuEg')\n",
    "reviews"
   ]
  }
 ],
 "metadata": {
  "kernelspec": {
   "display_name": "Python 3",
   "language": "python",
   "name": "python3"
  },
  "language_info": {
   "codemirror_mode": {
    "name": "ipython",
    "version": 3
   },
   "file_extension": ".py",
   "mimetype": "text/x-python",
   "name": "python",
   "nbconvert_exporter": "python",
   "pygments_lexer": "ipython3",
   "version": "3.11.5"
  }
 },
 "nbformat": 4,
 "nbformat_minor": 2
}
